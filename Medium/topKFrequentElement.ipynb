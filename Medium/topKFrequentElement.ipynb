{
 "cells": [
  {
   "cell_type": "markdown",
   "metadata": {},
   "source": [
    "# Bucket Sort"
   ]
  },
  {
   "cell_type": "code",
   "execution_count": 15,
   "metadata": {},
   "outputs": [],
   "source": [
    "nums = [4,4,4,4,4,1,1,1,2,2,2,2,2,3,3,3,3,3]\n",
    "k = 2\n",
    "#Output: [1,2]"
   ]
  },
  {
   "cell_type": "code",
   "execution_count": 14,
   "metadata": {},
   "outputs": [
    {
     "name": "stdout",
     "output_type": "stream",
     "text": [
      "Count : {4: 5, 1: 3, 2: 5, 3: 5}\n",
      "Freq : [[], [], [], [1], [], [4, 2, 3], [], [], [], [], [], [], [], [], [], [], [], [], []]\n"
     ]
    },
    {
     "data": {
      "text/plain": [
       "[4, 2]"
      ]
     },
     "execution_count": 14,
     "metadata": {},
     "output_type": "execute_result"
    }
   ],
   "source": [
    "def topKFrequent( nums, k):\n",
    "    count = {}\n",
    "    freq = [[] for i in range(len(nums) + 1)]\n",
    "\n",
    "    for n in nums:\n",
    "        count[n] = 1 + count.get(n, 0)\n",
    "    for n, c in count.items():\n",
    "        freq[c].append(n)\n",
    "    print(\"Count :\", count)\n",
    "    print (\"Freq :\", freq)\n",
    "    res = []\n",
    "    for i in range(len(freq) - 1, 0, -1):\n",
    "        for n in freq[i]:\n",
    "            res.append(n)\n",
    "            if len(res) == k:\n",
    "                return res\n",
    "topKFrequent( nums, k)"
   ]
  },
  {
   "cell_type": "markdown",
   "metadata": {},
   "source": [
    "# Using Pandas Library"
   ]
  },
  {
   "cell_type": "code",
   "execution_count": 16,
   "metadata": {},
   "outputs": [
    {
     "data": {
      "text/plain": [
       "[[4], [2]]"
      ]
     },
     "execution_count": 16,
     "metadata": {},
     "output_type": "execute_result"
    }
   ],
   "source": [
    "import pandas as pd\n",
    "def topKFrequent( nums, k):     \n",
    "    count = {}\n",
    "    for n in nums:\n",
    "        count[n] = 1 + count.get(n, 0)\n",
    "    df = pd.DataFrame(list(count.items()), columns=['Value', 'Count'])\n",
    "    sort_df=df.sort_values('Count', ascending=False)\n",
    "    res=sort_df.iloc[[0,1],[0]]\n",
    "    res_l=res.values.tolist()\n",
    "    return res_l\n",
    "\n",
    "\n",
    "topKFrequent( nums, k)\n",
    "\n"
   ]
  },
  {
   "cell_type": "markdown",
   "metadata": {},
   "source": [
    "# Heap Sort"
   ]
  },
  {
   "cell_type": "code",
   "execution_count": 61,
   "metadata": {},
   "outputs": [],
   "source": [
    "import collections\n",
    "import heapq"
   ]
  },
  {
   "cell_type": "code",
   "execution_count": 62,
   "metadata": {},
   "outputs": [
    {
     "name": "stdout",
     "output_type": "stream",
     "text": [
      "[2, 1]\n"
     ]
    }
   ],
   "source": [
    "\n",
    "\n",
    "def k_most_frequent(nums, k):\n",
    "    # Create a frequency dictionary\n",
    "    frequency = collections.Counter(nums)\n",
    "    \n",
    "    # Create a min-heap (priority queue)\n",
    "    min_heap = []\n",
    "    \n",
    "    for num, freq in frequency.items():\n",
    "        if len(min_heap) < k:\n",
    "            heapq.heappush(min_heap, (freq, num))\n",
    "        else:\n",
    "            if freq > min_heap[0][0]:\n",
    "                heapq.heappop(min_heap)\n",
    "                heapq.heappush(min_heap, (freq, num))\n",
    "    \n",
    "    # Extract the k most frequent elements from the heap\n",
    "    result = [num for freq, num in min_heap]\n",
    "    \n",
    "    return result\n",
    "\n",
    "# Example usage\n",
    "nums = [1, 1, 1, 2, 2, 3]\n",
    "k = 2\n",
    "print(k_most_frequent(nums, k))  # Output: [1, 2]\n"
   ]
  }
 ],
 "metadata": {
  "kernelspec": {
   "display_name": "Python 3",
   "language": "python",
   "name": "python3"
  },
  "language_info": {
   "codemirror_mode": {
    "name": "ipython",
    "version": 3
   },
   "file_extension": ".py",
   "mimetype": "text/x-python",
   "name": "python",
   "nbconvert_exporter": "python",
   "pygments_lexer": "ipython3",
   "version": "3.10.6"
  },
  "orig_nbformat": 4
 },
 "nbformat": 4,
 "nbformat_minor": 2
}
